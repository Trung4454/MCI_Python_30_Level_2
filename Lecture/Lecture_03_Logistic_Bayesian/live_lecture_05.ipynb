{
 "cells": [
  {
   "cell_type": "markdown",
   "id": "49ae4995-d6e8-45d5-b6de-ccb62fa514b4",
   "metadata": {},
   "source": [
    "Probability:\n",
    "- Bayesian:\n",
    "    - Marginal Prob\n",
    "    - Conditional Prob\n",
    "    - Join Prob\n",
    "- Frequentist\n",
    "    - Marginal Prob\n",
    "    - Conditional Prob\n",
    "    - Join Prob"
   ]
  },
  {
   "cell_type": "markdown",
   "id": "c8f3f9a1-b701-42fd-a126-e2c036af5c9e",
   "metadata": {},
   "source": [
    "- Marginal Probability: P(X)\n",
    "- Conditional Probability: P(X|y=Y)\n",
    "- Join Probability: P(XY), rain vs sun"
   ]
  },
  {
   "cell_type": "markdown",
   "id": "5a9dfe6e-21cd-4e48-a4f3-27b0b18ac041",
   "metadata": {},
   "source": [
    "- X, Y independent:\n",
    "    - P(XY) = P(X) * P(Y)\n",
    "- X, Y dependent:\n",
    "    - P(XY) = P(X | Y) * P(Y) = P(Y | X) * P(X)\n",
    "    - P(X | Y) =  P(Y | X) * P(X) / P(Y) \n",
    "    - P(theta | X) = P(X | theta) * P(theta) / P(X)"
   ]
  },
  {
   "cell_type": "code",
   "execution_count": null,
   "id": "41d8cbd1-6c93-48e5-997e-bc8c326a067c",
   "metadata": {},
   "outputs": [],
   "source": []
  }
 ],
 "metadata": {
  "kernelspec": {
   "display_name": "Python 3",
   "language": "python",
   "name": "python3"
  },
  "language_info": {
   "codemirror_mode": {
    "name": "ipython",
    "version": 3
   },
   "file_extension": ".py",
   "mimetype": "text/x-python",
   "name": "python",
   "nbconvert_exporter": "python",
   "pygments_lexer": "ipython3",
   "version": "3.7.10"
  }
 },
 "nbformat": 4,
 "nbformat_minor": 5
}
