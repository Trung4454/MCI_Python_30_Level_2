{
 "cells": [
  {
   "cell_type": "markdown",
   "id": "ce07c411-c986-4467-b4ad-5ded51ae1831",
   "metadata": {},
   "source": [
    "#### 1. Data science life cycle"
   ]
  },
  {
   "cell_type": "markdown",
   "id": "2e5e66cf-0a6e-490c-a803-9649ed107932",
   "metadata": {},
   "source": [
    "![](https://www.business-science.io/assets/2019-06-27-data-science-workflow/the-data-science-workflow.jpeg)"
   ]
  },
  {
   "cell_type": "markdown",
   "id": "bc715561-1de4-4827-8adc-bc630ad24803",
   "metadata": {},
   "source": [
    "![](https://static.javatpoint.com/tutorial/data-science/images/data-science-components2.png)"
   ]
  },
  {
   "cell_type": "markdown",
   "id": "52b7db55-fbcf-4f6d-912e-32de6999c420",
   "metadata": {},
   "source": [
    "#### Artificial Intelligent"
   ]
  },
  {
   "cell_type": "markdown",
   "id": "2da0f213-63ed-47eb-9293-0f9e16e9de13",
   "metadata": {},
   "source": [
    "![](https://static.javatpoint.com/tutorial/ai/images/types-of-artificial-intelligence2.png)"
   ]
  },
  {
   "cell_type": "markdown",
   "id": "97bce8ec-ed33-484f-ad27-9ac62d3dcbed",
   "metadata": {},
   "source": [
    "![](https://upload.wikimedia.org/wikipedia/commons/5/55/Turing_test_diagram.png)"
   ]
  },
  {
   "cell_type": "markdown",
   "id": "ea388e8f-1bf9-42a9-81fd-42533a3121d4",
   "metadata": {},
   "source": [
    "![](https://niviki.com/wp-content/uploads/2018/05/ai-machine-learning-deep-learning.png)"
   ]
  },
  {
   "cell_type": "markdown",
   "id": "88ffcdd5-30b8-4e88-b063-a14246a7eec9",
   "metadata": {},
   "source": [
    "![](https://data-flair.training/blogs/wp-content/uploads/sites/2/2019/08/Types-of-Machine-Learning-algorithms.jpg)"
   ]
  },
  {
   "cell_type": "code",
   "execution_count": null,
   "id": "994a0bc3-b2e5-4516-8c7a-5800f53bdc52",
   "metadata": {},
   "outputs": [],
   "source": []
  }
 ],
 "metadata": {
  "kernelspec": {
   "display_name": "Python 3",
   "language": "python",
   "name": "python3"
  },
  "language_info": {
   "codemirror_mode": {
    "name": "ipython",
    "version": 3
   },
   "file_extension": ".py",
   "mimetype": "text/x-python",
   "name": "python",
   "nbconvert_exporter": "python",
   "pygments_lexer": "ipython3",
   "version": "3.7.10"
  }
 },
 "nbformat": 4,
 "nbformat_minor": 5
}
